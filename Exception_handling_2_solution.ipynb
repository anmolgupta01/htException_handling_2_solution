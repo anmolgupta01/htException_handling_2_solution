{
 "cells": [
  {
   "cell_type": "markdown",
   "id": "cbd0b253",
   "metadata": {},
   "source": [
    "Q1. Explain why we have to use the Exception class while creating a Custom Exception."
   ]
  },
  {
   "cell_type": "markdown",
   "id": "81c878fb",
   "metadata": {},
   "source": [
    "Using the Exception class as the base class for creating custom exceptions in Python ensures consistency, compatibility, and clarity in your code. It also promotes good coding practices and helps in building a well-organized and manageable error-handling system."
   ]
  },
  {
   "cell_type": "markdown",
   "id": "9bebd79e",
   "metadata": {},
   "source": [
    "Q2. Write a python program to print Python Exception Hierarchy"
   ]
  },
  {
   "cell_type": "code",
   "execution_count": 1,
   "id": "14ec62a8",
   "metadata": {},
   "outputs": [],
   "source": [
    "import logging\n",
    "logging.basicConfig(filename = \"error.log\" , level = logging.INFO)\n",
    "try :\n",
    "    10/0\n",
    "except FileNotFoundError as e : \n",
    "    logging.info(\"i am handling file not found  {} \".format(e) )\n",
    "except AttributeError as e : \n",
    "    logging.info(\"i am handling Attribute erro  {} \".format(e) )\n",
    "except ZeroDivisionError as e :\n",
    "    logging.info(\"i am trying to handle a zerodivision error {} \".format(e) )"
   ]
  },
  {
   "cell_type": "markdown",
   "id": "885a1fdb",
   "metadata": {},
   "source": [
    "Q3. What errors are defined in the ArithmeticError class? Explain any two with an example."
   ]
  },
  {
   "cell_type": "markdown",
   "id": "a5b85abd",
   "metadata": {},
   "source": [
    "The ArithmeticError class in Python is a base class for exceptions that occur during arithmetic operations. It serves as a superclass for various more specific arithmetic-related exception classes. Some of the exceptions defined within the ArithmeticError hierarchy include:\n",
    "\n",
    "ArithmeticError:-\n",
    "This is the base class for arithmetic-related exceptions.\n",
    "\n",
    "FloatingPointError:-\n",
    "Raised when a floating-point arithmetic operation fails. For example, division by zero in floating-point arithmetic.\n",
    "\n",
    "OverflowError:-\n",
    "Raised when an arithmetic operation exceeds the limits of its data type, resulting in an overflow.\n",
    "\n",
    "ZeroDivisionError:-\n",
    "Raised when attempting to divide by zero in integer or floating-point arithmetic.\n",
    "AssertionError\n"
   ]
  },
  {
   "cell_type": "code",
   "execution_count": 2,
   "id": "20fd989f",
   "metadata": {},
   "outputs": [],
   "source": [
    "#floating point error\n",
    "import logging\n",
    "logging.basicConfig(filename = \"error.log\" , level = logging.INFO)\n",
    "import math\n",
    "\n",
    "try:\n",
    "    result = math.exp(1000)  # Raises FloatingPointError due to overflow\n",
    "except OverflowError as e:\n",
    "    logging.info(\"OverflowError: {}\".format(e))\n",
    "else:\n",
    "    logging.info(\"Result: {} \".format(result))"
   ]
  },
  {
   "cell_type": "code",
   "execution_count": 3,
   "id": "c3739bb0",
   "metadata": {},
   "outputs": [],
   "source": [
    "#zero division error\n",
    "import logging\n",
    "logging.basicConfig(filename = \"error.log\" , level = logging.INFO)\n",
    "try:\n",
    "    result = 10 / 0\n",
    "except ZeroDivisionError as e:\n",
    "    logging.info(\"ZeroDivisionError: {}\".format(e))\n",
    "else:\n",
    "    logging.info(\"Result:{}\".format(result))"
   ]
  },
  {
   "cell_type": "markdown",
   "id": "f3593b08",
   "metadata": {},
   "source": [
    "Q4. Why LookupError class is used? Explain with an example KeyError and IndexError."
   ]
  },
  {
   "cell_type": "markdown",
   "id": "b79d8ed3",
   "metadata": {},
   "source": [
    "The LookupError class in Python is used to handle exceptions related to lookup operations, such as accessing items in sequences (like lists, tuples, strings) or dictionaries. It serves as a base class for several more specific exception classes, each targeting a particular type of lookup operation. This hierarchy of exceptions allows for more fine-grained error handling when dealing with lookup-related issues.\n",
    "\n",
    "Some common exceptions that inherit from LookupError include:\n",
    "\n",
    "IndexError: Raised when a sequence index is out of range\n",
    "KeyError: Raised when a dictionary key is not found."
   ]
  },
  {
   "cell_type": "code",
   "execution_count": 4,
   "id": "b8e5dd59",
   "metadata": {},
   "outputs": [],
   "source": [
    "#index Error\n",
    "import logging\n",
    "logging.basicConfig(filename = \"error.log\" , level = logging.INFO)\n",
    "my_list = [1, 2, 3]\n",
    "try:\n",
    "    value = my_list[10]  # Raises IndexError since index 10 is out of range\n",
    "except IndexError as e:\n",
    "    logging.info(\"IndexError:{}\".format(e))\n"
   ]
  },
  {
   "cell_type": "code",
   "execution_count": 5,
   "id": "6292d900",
   "metadata": {},
   "outputs": [],
   "source": [
    "#Key error\n",
    "import logging\n",
    "logging.basicConfig(filename = \"error.log\", level = logging.INFO)\n",
    "my_dict = {'a': 1, 'b': 2}\n",
    "try:\n",
    "    value = my_dict['c']  # Raises KeyError since key 'c' is not present\n",
    "except KeyError as e:\n",
    "    logging.info(\"KeyError:{}\".format(e))"
   ]
  },
  {
   "cell_type": "markdown",
   "id": "f8594f08",
   "metadata": {},
   "source": [
    "Q5. Explain ImportError. What is ModuleNotFoundError?"
   ]
  },
  {
   "cell_type": "markdown",
   "id": "567e1c0c",
   "metadata": {},
   "source": [
    "Both ImportError and ModuleNotFoundError are exceptions in Python that relate to importing modules and packages. However, in Python 3.6 and later, ModuleNotFoundError was introduced as a more specific subclass of ImportError to provide clearer error messages in cases where a module cannot be found.\n",
    "\n",
    "ImportError: This exception is raised when an imported module, package, or object cannot be located or loaded properly.\n",
    "\n",
    "ModuleNotFoundError: Introduced in Python 3.6, this exception is a subclass of ImportError and is specifically raised when a module is not found during the import process."
   ]
  },
  {
   "cell_type": "code",
   "execution_count": 6,
   "id": "7779659a",
   "metadata": {},
   "outputs": [],
   "source": [
    "#import error\n",
    "import logging\n",
    "logging.basicConfig(filename = \"error.log\" , level = logging.INFO)\n",
    "try:\n",
    "    import non_existent_module  # Raises ImportError since the module doesn't exist\n",
    "except ImportError as e:\n",
    "    logging.info(\"ImportError:{}\".format(e))\n",
    "    \n",
    "logging.info(1+2)"
   ]
  },
  {
   "cell_type": "code",
   "execution_count": 7,
   "id": "de92bd5a",
   "metadata": {},
   "outputs": [],
   "source": [
    "#modulenotfounderror\n",
    "import logging\n",
    "logging.basicConfig(filename = \"error.log\" , level = logging.INFO)\n",
    "try:\n",
    "    import non_existent_module  # Raises ModuleNotFoundError since the module doesn't exist\n",
    "except ModuleNotFoundError as e:\n",
    "    logging.info(\"ModuleNotFoundError:{}\".format(e))\n"
   ]
  },
  {
   "cell_type": "markdown",
   "id": "ad0ce1d2",
   "metadata": {},
   "source": [
    "Q6. List down some best practices for exception handling in python. "
   ]
  },
  {
   "cell_type": "markdown",
   "id": "f328a3b8",
   "metadata": {},
   "source": [
    "Exception handling is an important aspect of writing robust and maintainable code in Python\n",
    "Use Specific Exception Types: Catch specific exception types instead of using a broad except block. This allows you to handle different errors appropriately and provides more meaningful error messages.\n",
    "\n",
    "Keep Exception Blocks Short: Keep the code within your try and except blocks as short as possible. This helps in maintaining readability and understanding the flow of your program.\n",
    "\n",
    "Avoid Bare except: Avoid using bare except blocks without specifying the exception type. Catching all exceptions can mask errors and make debugging difficult.\n",
    "\n",
    "Use finally for Cleanup: When you need to perform cleanup actions, such as closing files or releasing resources, use the finally block. It ensures that the cleanup code is executed, regardless of whether an exception was raised.\n",
    "\n",
    "Rethrow Exceptions Sparingly: If you catch an exception but cannot handle it effectively, consider rethrowing it using raise to preserve the original exception's context.\n",
    "\n",
    "Logging: Use the logging module to log exceptions and errors, rather than just printing them. This provides better control over where and how error messages are recorded.\n",
    "\n",
    "Custom Exception Classes: Define custom exception classes for your application to represent specific error conditions. This makes error handling more explicit and allows you to convey more information about the error.\n",
    "\n",
    "Separation of Concerns: Keep your error-handling code separate from your main logic. This makes your codebase more maintainable and readable.\n",
    "\n",
    "Context Managers: Use context managers (the with statement) to handle resources such as files and network connections. They ensure proper cleanup even if exceptions occur.\n",
    "\n",
    "Use else Clause: Use the else clause in try blocks when the code should only run if no exception is raised. This can lead to cleaner and more readable code.\n",
    "\n",
    "Graceful Degradation: Handle exceptions gracefully, especially in user-facing applications. Provide clear error messages and avoid crashing the program whenever possible.\n",
    "\n",
    "Testing: Write unit tests that cover different exception scenarios. This helps ensure that your code behaves as expected when exceptions are raised.\n",
    "\n",
    "Documentation: Document your code's expected exceptions and error handling strategies. This helps other developers understand how to handle errors when using your code.\n",
    "\n",
    "Use isinstance: In some cases, you might want to catch exceptions based on a hierarchy of exception types. You can use the isinstance function to check if an exception is an instance of a particular class."
   ]
  },
  {
   "cell_type": "code",
   "execution_count": null,
   "id": "bbc7e68f",
   "metadata": {},
   "outputs": [],
   "source": []
  },
  {
   "cell_type": "code",
   "execution_count": null,
   "id": "b8223663",
   "metadata": {},
   "outputs": [],
   "source": []
  }
 ],
 "metadata": {
  "kernelspec": {
   "display_name": "Python 3 (ipykernel)",
   "language": "python",
   "name": "python3"
  },
  "language_info": {
   "codemirror_mode": {
    "name": "ipython",
    "version": 3
   },
   "file_extension": ".py",
   "mimetype": "text/x-python",
   "name": "python",
   "nbconvert_exporter": "python",
   "pygments_lexer": "ipython3",
   "version": "3.11.4"
  }
 },
 "nbformat": 4,
 "nbformat_minor": 5
}
